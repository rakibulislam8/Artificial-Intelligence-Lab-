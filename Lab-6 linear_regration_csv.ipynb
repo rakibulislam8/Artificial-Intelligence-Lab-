{
 "cells": [
  {
   "cell_type": "code",
   "execution_count": 1,
   "metadata": {
    "collapsed": true
   },
   "outputs": [],
   "source": [
    "# Rakibul Islam\n",
    "# 151-15-5131\n",
    "import numpy as np\n",
    "import matplotlib.pyplot as plt\n",
    "import pandas as pd"
   ]
  },
  {
   "cell_type": "code",
   "execution_count": 15,
   "metadata": {},
   "outputs": [
    {
     "name": "stdout",
     "output_type": "stream",
     "text": [
      "         x           y\n",
      "0     24.0   21.549452\n",
      "1     50.0   47.464463\n",
      "2     15.0   17.218656\n",
      "3     38.0   36.586398\n",
      "4     87.0   87.288984\n",
      "5     36.0   32.463875\n",
      "6     12.0   10.780897\n",
      "7     81.0   80.763399\n",
      "8     25.0   24.612151\n",
      "9      5.0    6.963319\n",
      "10    16.0   11.237573\n",
      "11    16.0   13.532902\n",
      "12    24.0   24.603239\n",
      "13    39.0   39.400500\n",
      "14    54.0   48.437538\n",
      "15    60.0   61.699003\n",
      "16    26.0   26.928324\n",
      "17    73.0   70.405206\n",
      "18    29.0   29.340924\n",
      "19    31.0   25.308952\n",
      "20    68.0   69.029343\n",
      "21    87.0   84.994847\n",
      "22    58.0   57.043103\n",
      "23    54.0   50.592199\n",
      "24    84.0   83.027722\n",
      "25    58.0   57.057527\n",
      "26    49.0   47.958833\n",
      "27    20.0   24.342264\n",
      "28    90.0   94.684883\n",
      "29    48.0   48.039707\n",
      "..     ...         ...\n",
      "670   84.0   82.889358\n",
      "671   64.0   63.613650\n",
      "672   12.0   11.296272\n",
      "673   61.0   60.022749\n",
      "674   75.0   72.603393\n",
      "675   15.0   11.879646\n",
      "676  100.0  100.701274\n",
      "677   43.0   45.124208\n",
      "678   13.0   14.811068\n",
      "679   48.0   48.093680\n",
      "680   45.0   42.291457\n",
      "681   52.0   52.733898\n",
      "682   34.0   36.723970\n",
      "683   30.0   28.645352\n",
      "684   65.0   62.166753\n",
      "685  100.0   95.584595\n",
      "686   67.0   66.043253\n",
      "687   99.0   99.956622\n",
      "688   45.0   46.149420\n",
      "689   87.0   89.137550\n",
      "690   73.0   69.717878\n",
      "691    9.0   12.317366\n",
      "692   81.0   78.202963\n",
      "693   72.0   71.309954\n",
      "694   81.0   81.455447\n",
      "695   58.0   58.595006\n",
      "696   93.0   94.625094\n",
      "697   82.0   88.603770\n",
      "698   66.0   63.648685\n",
      "699   97.0   94.975266\n",
      "\n",
      "[699 rows x 2 columns]\n"
     ]
    }
   ],
   "source": [
    "df1 = pd.read_csv(\"train.csv\").dropna()\n",
    "print(df1)"
   ]
  },
  {
   "cell_type": "code",
   "execution_count": 17,
   "metadata": {},
   "outputs": [
    {
     "name": "stdout",
     "output_type": "stream",
     "text": [
      "50.01430615164521\n",
      "49.93986917045776\n"
     ]
    }
   ],
   "source": [
    "m_x = np.mean(df1.x);\n",
    "m_y = np.mean(df1.y);\n",
    "print(m_x)\n",
    "print(m_y)"
   ]
  },
  {
   "cell_type": "code",
   "execution_count": 18,
   "metadata": {},
   "outputs": [
    {
     "name": "stdout",
     "output_type": "stream",
     "text": [
      "3335.424584518539\n"
     ]
    }
   ],
   "source": [
    "m_xy = np.mean(df1.x*df1.y)\n",
    "print(m_xy)"
   ]
  },
  {
   "cell_type": "code",
   "execution_count": 19,
   "metadata": {},
   "outputs": [
    {
     "name": "stdout",
     "output_type": "stream",
     "text": [
      "3338.5979971387696\n"
     ]
    }
   ],
   "source": [
    "m_xx = np.mean(df1.x**2)\n",
    "print(m_xx)"
   ]
  },
  {
   "cell_type": "code",
   "execution_count": 20,
   "metadata": {},
   "outputs": [
    {
     "name": "stdout",
     "output_type": "stream",
     "text": [
      "2501.4308198304957\n"
     ]
    }
   ],
   "source": [
    "m_x2 = m_x**2\n",
    "print(m_x2)"
   ]
  },
  {
   "cell_type": "code",
   "execution_count": 21,
   "metadata": {},
   "outputs": [
    {
     "name": "stdout",
     "output_type": "stream",
     "text": [
      "1.000656381856309\n"
     ]
    }
   ],
   "source": [
    "m_opt = ((m_x*m_y)-m_xy)/(m_x2-m_xx)\n",
    "print(m_opt)"
   ]
  },
  {
   "cell_type": "code",
   "execution_count": 22,
   "metadata": {},
   "outputs": [
    {
     "name": "stdout",
     "output_type": "stream",
     "text": [
      "-0.10726546430127115\n"
     ]
    }
   ],
   "source": [
    "c_opt = (m_y-(m_opt*m_x))\n",
    "print(c_opt)"
   ]
  },
  {
   "cell_type": "code",
   "execution_count": 23,
   "metadata": {},
   "outputs": [
    {
     "data": {
      "image/png": "[encoded data removed]",
      "text/plain": [
       "<matplotlib.figure.Figure at 0x8c67f17898>"
      ]
     },
     "metadata": {},
     "output_type": "display_data"
    }
   ],
   "source": [
    "plt.scatter(df1.x, df1.y)\n",
    "plt.show()"
   ]
  },
  {
   "cell_type": "code",
   "execution_count": 24,
   "metadata": {},
   "outputs": [
    {
     "name": "stdout",
     "output_type": "stream",
     "text": [
      "0      23.908488\n",
      "1      49.925554\n",
      "2      14.902580\n",
      "3      37.917677\n",
      "4      86.949840\n",
      "5      35.916364\n",
      "6      11.900611\n",
      "7      80.945901\n",
      "8      24.909144\n",
      "9       4.896016\n",
      "10     15.903237\n",
      "11     15.903237\n",
      "12     23.908488\n",
      "13     38.918333\n",
      "14     53.928179\n",
      "15     59.932117\n",
      "16     25.909800\n",
      "17     72.940650\n",
      "18     28.911770\n",
      "19     30.913082\n",
      "20     67.937369\n",
      "21     86.949840\n",
      "22     57.930805\n",
      "23     53.928179\n",
      "24     83.947871\n",
      "25     57.930805\n",
      "26     48.924897\n",
      "27     19.905862\n",
      "28     89.951809\n",
      "29     47.924241\n",
      "         ...    \n",
      "670    83.947871\n",
      "671    63.934743\n",
      "672    11.900611\n",
      "673    60.932774\n",
      "674    74.941963\n",
      "675    14.902580\n",
      "676    99.958373\n",
      "677    42.920959\n",
      "678    12.901267\n",
      "679    47.924241\n",
      "680    44.922272\n",
      "681    51.926866\n",
      "682    33.915052\n",
      "683    29.912426\n",
      "684    64.935399\n",
      "685    99.958373\n",
      "686    66.936712\n",
      "687    98.957716\n",
      "688    44.922272\n",
      "689    86.949840\n",
      "690    72.940650\n",
      "691     8.898642\n",
      "692    80.945901\n",
      "693    71.939994\n",
      "694    80.945901\n",
      "695    57.930805\n",
      "696    92.953778\n",
      "697    81.946558\n",
      "698    65.936056\n",
      "699    96.956404\n",
      "Name: x, Length: 699, dtype: float64\n"
     ]
    }
   ],
   "source": [
    "m_y_p = ((m_opt*df1.x)+c_opt) \n",
    "print(m_y_p)"
   ]
  },
  {
   "cell_type": "code",
   "execution_count": 26,
   "metadata": {},
   "outputs": [
    {
     "data": {
      "image/png": "[encoded data removed]",
      "text/plain": [
       "<matplotlib.figure.Figure at 0x8c682f2e48>"
      ]
     },
     "metadata": {},
     "output_type": "display_data"
    }
   ],
   "source": [
    "plt.scatter(df1.x, df1.y)\n",
    "plt.plot(df1.x,m_y_p,c='r')\n",
    "plt.show()"
   ]
  },
  {
   "cell_type": "code",
   "execution_count": null,
   "metadata": {
    "collapsed": true
   },
   "outputs": [],
   "source": []
  }
 ],
 "metadata": {
  "kernelspec": {
   "display_name": "Python 3",
   "language": "python",
   "name": "python3"
  },
  "language_info": {
   "codemirror_mode": {
    "name": "ipython",
    "version": 3
   },
   "file_extension": ".py",
   "mimetype": "text/x-python",
   "name": "python",
   "nbconvert_exporter": "python",
   "pygments_lexer": "ipython3",
   "version": "3.6.3"
  }
 },
 "nbformat": 4,
 "nbformat_minor": 2
}
