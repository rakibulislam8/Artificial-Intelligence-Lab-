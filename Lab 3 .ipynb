{
 "cells": [
  {
   "cell_type": "code",
   "execution_count": 3,
   "metadata": {
    "collapsed": true
   },
   "outputs": [],
   "source": [
    "#ID: 151-15-5131\n",
    "#Rakibul Islam"
   ]
  },
  {
   "cell_type": "code",
   "execution_count": 4,
   "metadata": {
    "collapsed": true
   },
   "outputs": [],
   "source": [
    "x1 = [0, 0, 1, 1] #dataset\n",
    "x2 = [0, 1, 0, 1]  #dataset\n",
    "y = [0, 0, 0, 1]  #result of and operation dataset\n",
    "m1 = 0.3 #Let’s Assume and m1=𝜃_1\n",
    "m2 = -0.1 #Let’s Assume  and m2= 𝜃_2\n",
    "n = 0.1 # Learning Rate\n",
    "th = 0.2 # Threshold\n"
   ]
  },
  {
   "cell_type": "code",
   "execution_count": 14,
   "metadata": {},
   "outputs": [
    {
     "name": "stdout",
     "output_type": "stream",
     "text": [
      "==================================== Epoch: 1 ====================================\n",
      "Inputs: 0 0 Result: 0 Old Weight: 0.1 0.1 Output:  0 Cost: 0 New Weight: 0.1 0.1\n",
      "Inputs: 0 1 Result: 0 Old Weight: 0.1 0.1 Output:  0 Cost: 0 New Weight: 0.1 0.1\n",
      "Inputs: 1 0 Result: 0 Old Weight: 0.1 0.1 Output:  0 Cost: 0 New Weight: 0.1 0.1\n",
      "Inputs: 1 1 Result: 1 Old Weight: 0.1 0.1 Output:  1 Cost: 0 New Weight: 0.1 0.1\n",
      "==================================== Epoch: 2 ====================================\n",
      "Inputs: 0 0 Result: 0 Old Weight: 0.1 0.1 Output:  0 Cost: 0 New Weight: 0.1 0.1\n",
      "Inputs: 0 1 Result: 0 Old Weight: 0.1 0.1 Output:  0 Cost: 0 New Weight: 0.1 0.1\n",
      "Inputs: 1 0 Result: 0 Old Weight: 0.1 0.1 Output:  0 Cost: 0 New Weight: 0.1 0.1\n",
      "Inputs: 1 1 Result: 1 Old Weight: 0.1 0.1 Output:  1 Cost: 0 New Weight: 0.1 0.1\n",
      "==================================== Epoch: 3 ====================================\n",
      "Inputs: 0 0 Result: 0 Old Weight: 0.1 0.1 Output:  0 Cost: 0 New Weight: 0.1 0.1\n",
      "Inputs: 0 1 Result: 0 Old Weight: 0.1 0.1 Output:  0 Cost: 0 New Weight: 0.1 0.1\n",
      "Inputs: 1 0 Result: 0 Old Weight: 0.1 0.1 Output:  0 Cost: 0 New Weight: 0.1 0.1\n",
      "Inputs: 1 1 Result: 1 Old Weight: 0.1 0.1 Output:  1 Cost: 0 New Weight: 0.1 0.1\n",
      "==================================== Epoch: 4 ====================================\n",
      "Inputs: 0 0 Result: 0 Old Weight: 0.1 0.1 Output:  0 Cost: 0 New Weight: 0.1 0.1\n",
      "Inputs: 0 1 Result: 0 Old Weight: 0.1 0.1 Output:  0 Cost: 0 New Weight: 0.1 0.1\n",
      "Inputs: 1 0 Result: 0 Old Weight: 0.1 0.1 Output:  0 Cost: 0 New Weight: 0.1 0.1\n",
      "Inputs: 1 1 Result: 1 Old Weight: 0.1 0.1 Output:  1 Cost: 0 New Weight: 0.1 0.1\n",
      "==================================== Epoch: 5 ====================================\n",
      "Inputs: 0 0 Result: 0 Old Weight: 0.1 0.1 Output:  0 Cost: 0 New Weight: 0.1 0.1\n",
      "Inputs: 0 1 Result: 0 Old Weight: 0.1 0.1 Output:  0 Cost: 0 New Weight: 0.1 0.1\n",
      "Inputs: 1 0 Result: 0 Old Weight: 0.1 0.1 Output:  0 Cost: 0 New Weight: 0.1 0.1\n",
      "Inputs: 1 1 Result: 1 Old Weight: 0.1 0.1 Output:  1 Cost: 0 New Weight: 0.1 0.1\n"
     ]
    }
   ],
   "source": [
    "for i in range(5):\n",
    "    print('='*36, 'Epoch:', i+1, '='*36)\n",
    "    error = []\n",
    "    temp = []\n",
    "    for j in range(len(x1)):\n",
    "        y_pred =x1[j] * m1 + x2[j] * m2 # Calculating the Y prediction value : h_𝜃(x) = 𝜃_1 𝑋_1 + 𝜃_2 𝑋_2 \n",
    "\n",
    "        if y_pred < th:   # If the predicted value is lesser than the threshold Y prediction value will assign 0.\n",
    "            y_pred = 0\n",
    "        else:             #If the predicted value is greater than the threshold Y prediction value will assign 1.\n",
    "            y_pred = 1\n",
    "        cost=y[j]-y_pred # Cost Function J(𝜃_1, 𝜃_2) = actual value – predicted value\n",
    "        temp.append(y_pred)\n",
    "        error.append(cost)\n",
    "        if temp == y:\n",
    "# print final result of m1 and m2 where  m1=𝜃_1 and m2= 𝜃_2\n",
    "            print( 'Inputs:', x1[j], x2[j],'Result:', y[j], 'Old Weight:', m1_temp, m2_temp,'Output: ', y_pred, 'Cost:', \n",
    "                  cost, 'New Weight:', m1, m2)\n",
    "            break\n",
    "        else:\n",
    "            m1_temp = m1\n",
    "            m1 = m1 + n * x1[j] * cost\n",
    "            m1 = float(\"{0:.2f}\".format(m1))\n",
    "            m2_temp = w2\n",
    "            m2 = m2 + n * x2[j] * cost\n",
    "            m2 = float(\"{0:.2f}\".format(m2))\n",
    "        print( 'Inputs:', x1[j], x2[j],'Result:', y[j], 'Old Weight:', m1_temp, m2_temp,'Output: ', y_pred, 'Cost:', cost, \n",
    "              'New Weight:', m1, m2)\n",
    "             "
   ]
  },
  {
   "cell_type": "code",
   "execution_count": null,
   "metadata": {
    "collapsed": true
   },
   "outputs": [],
   "source": []
  }
 ],
 "metadata": {
  "kernelspec": {
   "display_name": "Python 3",
   "language": "python",
   "name": "python3"
  },
  "language_info": {
   "codemirror_mode": {
    "name": "ipython",
    "version": 3
   },
   "file_extension": ".py",
   "mimetype": "text/x-python",
   "name": "python",
   "nbconvert_exporter": "python",
   "pygments_lexer": "ipython3",
   "version": "3.6.3"
  }
 },
 "nbformat": 4,
 "nbformat_minor": 2
}
