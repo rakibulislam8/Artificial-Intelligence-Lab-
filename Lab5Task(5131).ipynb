{
 "cells": [
  {
   "cell_type": "code",
   "execution_count": null,
   "metadata": {
    "collapsed": true
   },
   "outputs": [],
   "source": [
    "#151‐15‐5131"
   ]
  },
  {
   "cell_type": "code",
   "execution_count": 41,
   "metadata": {
    "collapsed": true
   },
   "outputs": [],
   "source": [
    "import numpy as np\n",
    "import matplotlib.pyplot as plt"
   ]
  },
  {
   "cell_type": "code",
   "execution_count": 46,
   "metadata": {
    "collapsed": true
   },
   "outputs": [],
   "source": [
    "X = np.array([2, 2, 5, 6, 5, 2.5])\n",
    "Y = np.array([4, 3, 2, 2, 2.5, 3.5])"
   ]
  },
  {
   "cell_type": "code",
   "execution_count": 47,
   "metadata": {},
   "outputs": [
    {
     "data": {
      "text/plain": [
       "<matplotlib.collections.PathCollection at 0x285198ff630>"
      ]
     },
     "execution_count": 47,
     "metadata": {},
     "output_type": "execute_result"
    },
    {
     "data": {
      "image/png": "[encoded data removed]",
      "text/plain": [
       "<matplotlib.figure.Figure at 0x2851991fda0>"
      ]
     },
     "metadata": {},
     "output_type": "display_data"
    }
   ],
   "source": [
    "plt.scatter(x,y)"
   ]
  },
  {
   "cell_type": "code",
   "execution_count": 48,
   "metadata": {
    "collapsed": true
   },
   "outputs": [],
   "source": [
    "c1 = (2, 4)\n",
    "c2 = (5, 2)\n",
    "cl_1 = []\n",
    "cl_2 = []\n",
    "def distance(c1, c2, x, y):\n",
    "    for i in range (len(x)):\n",
    "        d_c1 = np.sqrt(((c1[0]-x[i])**2)+((c1[1]-y[i])**2))\n",
    "        d_c2 = np.sqrt(((c2[0]-x[i])**2)+((c2[1]-y[i])**2))\n",
    "        if d_c1<d_c2:\n",
    "            cl_1.append([x[i],y[i]])\n",
    "            c1 = (np.mean ([s[0] for s in cl_1]),\n",
    "                  np.mean ([s[1] for s in cl_1]))\n",
    "            print(c1)         \n",
    "        else:\n",
    "            cl_2.append([x[i],y[i]])\n",
    "            c2 = (np.mean ([s[0] for s in cl_2]),\n",
    "                  np.mean ([s[1] for s in cl_2]))\n",
    "            print(c2)\n",
    "        return c1, c2"
   ]
  },
  {
   "cell_type": "code",
   "execution_count": 49,
   "metadata": {},
   "outputs": [
    {
     "name": "stdout",
     "output_type": "stream",
     "text": [
      "(2.0, 4.0)\n"
     ]
    }
   ],
   "source": [
    "c11, c22 = distance (c1, c2, X, Y)"
   ]
  },
  {
   "cell_type": "code",
   "execution_count": 50,
   "metadata": {},
   "outputs": [
    {
     "data": {
      "image/png": "[encoded data removed]",
      "text/plain": [
       "<matplotlib.figure.Figure at 0x28519a476a0>"
      ]
     },
     "metadata": {},
     "output_type": "display_data"
    }
   ],
   "source": [
    "plt.scatter(x,y)\n",
    "plt.scatter(c11[0],c11[1])\n",
    "plt.scatter(c22[0], c22[1])\n",
    "plt.show()"
   ]
  },
  {
   "cell_type": "code",
   "execution_count": null,
   "metadata": {
    "collapsed": true
   },
   "outputs": [],
   "source": [
    "Shaikat Saha\n",
    "Id : 151-15-4698"
   ]
  }
 ],
 "metadata": {
  "kernelspec": {
   "display_name": "Python 3",
   "language": "python",
   "name": "python3"
  },
  "language_info": {
   "codemirror_mode": {
    "name": "ipython",
    "version": 3
   },
   "file_extension": ".py",
   "mimetype": "text/x-python",
   "name": "python",
   "nbconvert_exporter": "python",
   "pygments_lexer": "ipython3",
   "version": "3.6.3"
  }
 },
 "nbformat": 4,
 "nbformat_minor": 2
}
